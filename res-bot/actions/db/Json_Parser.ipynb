{
 "cells": [
  {
   "cell_type": "code",
   "execution_count": 1,
   "id": "408a4dcd",
   "metadata": {},
   "outputs": [],
   "source": [
    "import json"
   ]
  },
  {
   "cell_type": "code",
   "execution_count": 30,
   "id": "cb32de1c",
   "metadata": {},
   "outputs": [],
   "source": [
    "with open(\"database.json\") as f:\n",
    "    data = json.load(f)"
   ]
  },
  {
   "cell_type": "code",
   "execution_count": 31,
   "id": "6ecba040",
   "metadata": {},
   "outputs": [
    {
     "data": {
      "text/plain": [
       "{'regular': [{'meal_group': 'meal',\n",
       "   'item': 'bigmac',\n",
       "   'price': 'JOD 3.00',\n",
       "   'fries_size': {'items': ['regular', 'heavy'], 'limit': 1},\n",
       "   'drink': {'items': {'coke': ['regular', 'medium', 'large'],\n",
       "     'fanta': ['regular'],\n",
       "     'water': ['regular']},\n",
       "    'limit': 1},\n",
       "   'extras': {'items': ['lattuce',\n",
       "     'pickles',\n",
       "     'onion',\n",
       "     'big mac sauce',\n",
       "     'meat'],\n",
       "    'limit': 3},\n",
       "   'removals': {'items': ['lattuce',\n",
       "     'pickles',\n",
       "     'onion',\n",
       "     'big mac sauce',\n",
       "     'cheese'],\n",
       "    'limit': 4}},\n",
       "  {'meal_group': 'sandwich',\n",
       "   'item': 'egg sandwich',\n",
       "   'price': 'JOD 0.75',\n",
       "   'extras': {'items': ['lattuce', 'pickles', 'onion', 'sauce'], 'limit': 3},\n",
       "   'removals': {'items': ['lattuce', 'pickles', 'onion', 'sauce'],\n",
       "    'limit': 3}}],\n",
       " 'double': [{'meal_group': 'meal',\n",
       "   'item': 'cheese burger',\n",
       "   'price': 'JOD 4.00',\n",
       "   'drink': {'items': {'coke': ['large'],\n",
       "     'fanta': ['large'],\n",
       "     'sprite': ['large'],\n",
       "     'coke zero': ['large'],\n",
       "     'water': ['regular']},\n",
       "    'limit': 1},\n",
       "   'extras': {'items': ['lattuce', 'tomato', 'chaddar cheese'], 'limit': 3},\n",
       "   'removals': {'items': ['mustard',\n",
       "     'ketchup',\n",
       "     'onion',\n",
       "     'pickle',\n",
       "     'cheese',\n",
       "     'meat',\n",
       "     'salt'],\n",
       "    'limit': 4}}],\n",
       " 'happy': [{'meal_group': 'meal',\n",
       "   'item': 'cheese burger',\n",
       "   'price': 'JOD 2.75',\n",
       "   'drink': {'items': {'coke': ['small', 'regular', 'medium', 'large'],\n",
       "     'fanta': ['small', 'regular']}},\n",
       "   'additions': {'items': {'toy': [\"boy's toy\", \"girl's toy\"],\n",
       "     'story': ['kids story in english', 'kids story in arabic']},\n",
       "    'limit': 1},\n",
       "   'extras': {'items': ['onion', 'pickles', 'lattuce', 'ketchup', 'cheese'],\n",
       "    'limit': 3},\n",
       "   'removals': {'items': ['mustard', 'ketchup', 'onion', 'pickle'],\n",
       "    'limit': 4}}]}"
      ]
     },
     "execution_count": 31,
     "metadata": {},
     "output_type": "execute_result"
    }
   ],
   "source": [
    "data"
   ]
  }
 ],
 "metadata": {
  "kernelspec": {
   "display_name": "Python 3 (ipykernel)",
   "language": "python",
   "name": "python3"
  },
  "language_info": {
   "codemirror_mode": {
    "name": "ipython",
    "version": 3
   },
   "file_extension": ".py",
   "mimetype": "text/x-python",
   "name": "python",
   "nbconvert_exporter": "python",
   "pygments_lexer": "ipython3",
   "version": "3.10.0"
  }
 },
 "nbformat": 4,
 "nbformat_minor": 5
}
